{
 "cells": [
  {
   "cell_type": "code",
   "execution_count": 2,
   "metadata": {},
   "outputs": [],
   "source": [
    "import pandas as pd\n",
    "DIR = 'data/new data/'"
   ]
  },
  {
   "cell_type": "markdown",
   "metadata": {},
   "source": [
    "Coba test data yang sudah di ambil dari Bitcoinity"
   ]
  },
  {
   "cell_type": "code",
   "execution_count": 6,
   "metadata": {},
   "outputs": [],
   "source": [
    "bitcoin_time_series = pd.read_csv(DIR + \"bitcoin_price_daily.csv\", parse_dates = ['Time'])\n",
    "gtrend_time_series = pd.read_csv(DIR + \"daily_gtrend_data_new.csv\", parse_dates = ['date'])"
   ]
  },
  {
   "cell_type": "code",
   "execution_count": 8,
   "metadata": {},
   "outputs": [],
   "source": [
    "block_size = pd.read_csv(DIR + \"block_size_cut.csv\", parse_dates = ['Time'])\n",
    "mining_difficulty = pd.read_csv(DIR + \"mining_difficulty_daily_cut.csv\", parse_dates = ['Time'])\n",
    "number_of_transaction = pd.read_csv(DIR + \"number_of_transaction_cut.csv\", parse_dates = ['Time'])"
   ]
  },
  {
   "cell_type": "markdown",
   "metadata": {},
   "source": [
    "Menyatukan semua data"
   ]
  },
  {
   "cell_type": "code",
   "execution_count": 9,
   "metadata": {},
   "outputs": [],
   "source": [
    "dataset = bitcoin_time_series.copy()\n",
    "dataset['gtrend'] = gtrend_time_series['bitcoin']\n",
    "dataset['block_size'] = block_size['block_size']\n",
    "dataset['difficulty'] = mining_difficulty['difficulty']\n",
    "dataset['number_of_transaction'] = number_of_transaction['not']\n"
   ]
  },
  {
   "cell_type": "code",
   "execution_count": 10,
   "metadata": {},
   "outputs": [
    {
     "data": {
      "text/html": [
       "<div>\n",
       "<style scoped>\n",
       "    .dataframe tbody tr th:only-of-type {\n",
       "        vertical-align: middle;\n",
       "    }\n",
       "\n",
       "    .dataframe tbody tr th {\n",
       "        vertical-align: top;\n",
       "    }\n",
       "\n",
       "    .dataframe thead th {\n",
       "        text-align: right;\n",
       "    }\n",
       "</style>\n",
       "<table border=\"1\" class=\"dataframe\">\n",
       "  <thead>\n",
       "    <tr style=\"text-align: right;\">\n",
       "      <th></th>\n",
       "      <th>price</th>\n",
       "      <th>volume</th>\n",
       "      <th>gtrend</th>\n",
       "      <th>block_size</th>\n",
       "      <th>difficulty</th>\n",
       "      <th>number_of_transaction</th>\n",
       "    </tr>\n",
       "  </thead>\n",
       "  <tbody>\n",
       "    <tr>\n",
       "      <th>price</th>\n",
       "      <td>1.000000</td>\n",
       "      <td>0.750515</td>\n",
       "      <td>0.627894</td>\n",
       "      <td>0.605706</td>\n",
       "      <td>0.751124</td>\n",
       "      <td>0.705840</td>\n",
       "    </tr>\n",
       "    <tr>\n",
       "      <th>volume</th>\n",
       "      <td>0.750515</td>\n",
       "      <td>1.000000</td>\n",
       "      <td>0.868113</td>\n",
       "      <td>0.473348</td>\n",
       "      <td>0.333070</td>\n",
       "      <td>0.487383</td>\n",
       "    </tr>\n",
       "    <tr>\n",
       "      <th>gtrend</th>\n",
       "      <td>0.627894</td>\n",
       "      <td>0.868113</td>\n",
       "      <td>1.000000</td>\n",
       "      <td>0.430812</td>\n",
       "      <td>0.214389</td>\n",
       "      <td>0.451041</td>\n",
       "    </tr>\n",
       "    <tr>\n",
       "      <th>block_size</th>\n",
       "      <td>0.605706</td>\n",
       "      <td>0.473348</td>\n",
       "      <td>0.430812</td>\n",
       "      <td>1.000000</td>\n",
       "      <td>0.452422</td>\n",
       "      <td>0.941249</td>\n",
       "    </tr>\n",
       "    <tr>\n",
       "      <th>difficulty</th>\n",
       "      <td>0.751124</td>\n",
       "      <td>0.333070</td>\n",
       "      <td>0.214389</td>\n",
       "      <td>0.452422</td>\n",
       "      <td>1.000000</td>\n",
       "      <td>0.624662</td>\n",
       "    </tr>\n",
       "    <tr>\n",
       "      <th>number_of_transaction</th>\n",
       "      <td>0.705840</td>\n",
       "      <td>0.487383</td>\n",
       "      <td>0.451041</td>\n",
       "      <td>0.941249</td>\n",
       "      <td>0.624662</td>\n",
       "      <td>1.000000</td>\n",
       "    </tr>\n",
       "  </tbody>\n",
       "</table>\n",
       "</div>"
      ],
      "text/plain": [
       "                          price    volume    gtrend  block_size  difficulty  \\\n",
       "price                  1.000000  0.750515  0.627894    0.605706    0.751124   \n",
       "volume                 0.750515  1.000000  0.868113    0.473348    0.333070   \n",
       "gtrend                 0.627894  0.868113  1.000000    0.430812    0.214389   \n",
       "block_size             0.605706  0.473348  0.430812    1.000000    0.452422   \n",
       "difficulty             0.751124  0.333070  0.214389    0.452422    1.000000   \n",
       "number_of_transaction  0.705840  0.487383  0.451041    0.941249    0.624662   \n",
       "\n",
       "                       number_of_transaction  \n",
       "price                               0.705840  \n",
       "volume                              0.487383  \n",
       "gtrend                              0.451041  \n",
       "block_size                          0.941249  \n",
       "difficulty                          0.624662  \n",
       "number_of_transaction               1.000000  "
      ]
     },
     "execution_count": 10,
     "metadata": {},
     "output_type": "execute_result"
    }
   ],
   "source": [
    "dataset.corr(method='pearson')"
   ]
  },
  {
   "cell_type": "code",
   "execution_count": 11,
   "metadata": {},
   "outputs": [
    {
     "data": {
      "text/html": [
       "<div>\n",
       "<style scoped>\n",
       "    .dataframe tbody tr th:only-of-type {\n",
       "        vertical-align: middle;\n",
       "    }\n",
       "\n",
       "    .dataframe tbody tr th {\n",
       "        vertical-align: top;\n",
       "    }\n",
       "\n",
       "    .dataframe thead th {\n",
       "        text-align: right;\n",
       "    }\n",
       "</style>\n",
       "<table border=\"1\" class=\"dataframe\">\n",
       "  <thead>\n",
       "    <tr style=\"text-align: right;\">\n",
       "      <th></th>\n",
       "      <th>Time</th>\n",
       "      <th>price</th>\n",
       "      <th>volume</th>\n",
       "      <th>gtrend</th>\n",
       "      <th>block_size</th>\n",
       "      <th>difficulty</th>\n",
       "      <th>number_of_transaction</th>\n",
       "    </tr>\n",
       "  </thead>\n",
       "  <tbody>\n",
       "    <tr>\n",
       "      <th>4129</th>\n",
       "      <td>2021-11-05 00:00:00+00:00</td>\n",
       "      <td>61617.144202</td>\n",
       "      <td>1.052916e+09</td>\n",
       "      <td>12.0</td>\n",
       "      <td>NaN</td>\n",
       "      <td>NaN</td>\n",
       "      <td>NaN</td>\n",
       "    </tr>\n",
       "    <tr>\n",
       "      <th>4130</th>\n",
       "      <td>2021-11-06 00:00:00+00:00</td>\n",
       "      <td>61074.400420</td>\n",
       "      <td>7.756679e+08</td>\n",
       "      <td>11.0</td>\n",
       "      <td>NaN</td>\n",
       "      <td>NaN</td>\n",
       "      <td>NaN</td>\n",
       "    </tr>\n",
       "    <tr>\n",
       "      <th>4131</th>\n",
       "      <td>2021-11-07 00:00:00+00:00</td>\n",
       "      <td>62209.854923</td>\n",
       "      <td>7.616645e+08</td>\n",
       "      <td>10.0</td>\n",
       "      <td>NaN</td>\n",
       "      <td>NaN</td>\n",
       "      <td>NaN</td>\n",
       "    </tr>\n",
       "    <tr>\n",
       "      <th>4132</th>\n",
       "      <td>2021-11-08 00:00:00+00:00</td>\n",
       "      <td>65802.647563</td>\n",
       "      <td>2.303838e+09</td>\n",
       "      <td>16.0</td>\n",
       "      <td>NaN</td>\n",
       "      <td>NaN</td>\n",
       "      <td>NaN</td>\n",
       "    </tr>\n",
       "    <tr>\n",
       "      <th>4133</th>\n",
       "      <td>2021-11-09 00:00:00+00:00</td>\n",
       "      <td>67523.004370</td>\n",
       "      <td>1.910524e+09</td>\n",
       "      <td>18.0</td>\n",
       "      <td>NaN</td>\n",
       "      <td>NaN</td>\n",
       "      <td>NaN</td>\n",
       "    </tr>\n",
       "  </tbody>\n",
       "</table>\n",
       "</div>"
      ],
      "text/plain": [
       "                          Time         price        volume  gtrend  \\\n",
       "4129 2021-11-05 00:00:00+00:00  61617.144202  1.052916e+09    12.0   \n",
       "4130 2021-11-06 00:00:00+00:00  61074.400420  7.756679e+08    11.0   \n",
       "4131 2021-11-07 00:00:00+00:00  62209.854923  7.616645e+08    10.0   \n",
       "4132 2021-11-08 00:00:00+00:00  65802.647563  2.303838e+09    16.0   \n",
       "4133 2021-11-09 00:00:00+00:00  67523.004370  1.910524e+09    18.0   \n",
       "\n",
       "      block_size  difficulty  number_of_transaction  \n",
       "4129         NaN         NaN                    NaN  \n",
       "4130         NaN         NaN                    NaN  \n",
       "4131         NaN         NaN                    NaN  \n",
       "4132         NaN         NaN                    NaN  \n",
       "4133         NaN         NaN                    NaN  "
      ]
     },
     "execution_count": 11,
     "metadata": {},
     "output_type": "execute_result"
    }
   ],
   "source": [
    "dataset.tail()"
   ]
  },
  {
   "cell_type": "code",
   "execution_count": 12,
   "metadata": {},
   "outputs": [
    {
     "name": "stdout",
     "output_type": "stream",
     "text": [
      "<class 'float'>\n"
     ]
    }
   ],
   "source": [
    "test = 13912524048945.9\n",
    "print(type(test))"
   ]
  },
  {
   "cell_type": "code",
   "execution_count": 13,
   "metadata": {},
   "outputs": [
    {
     "name": "stdout",
     "output_type": "stream",
     "text": [
      "13912524048945.9\n"
     ]
    }
   ],
   "source": [
    "print(test)"
   ]
  }
 ],
 "metadata": {
  "interpreter": {
   "hash": "5f85764960823ede56d9e75441de827b1341207aade159e6bfe9b8cfefca9976"
  },
  "kernelspec": {
   "display_name": "Python 3.9.7 64-bit ('tf': conda)",
   "language": "python",
   "name": "python3"
  },
  "language_info": {
   "codemirror_mode": {
    "name": "ipython",
    "version": 3
   },
   "file_extension": ".py",
   "mimetype": "text/x-python",
   "name": "python",
   "nbconvert_exporter": "python",
   "pygments_lexer": "ipython3",
   "version": "3.9.7"
  },
  "orig_nbformat": 4
 },
 "nbformat": 4,
 "nbformat_minor": 2
}
